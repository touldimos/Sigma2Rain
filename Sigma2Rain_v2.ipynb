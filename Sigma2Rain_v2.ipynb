{
 "cells": [
  {
   "cell_type": "markdown",
   "id": "9f094e9b",
   "metadata": {},
   "source": [
    "<a name=\"Contents\"></a>  \n",
    "\n",
    "# Table of Contents\n",
    "* <a href=\"#libs\">Libraries</a>  \n",
    "* <a href=\"#funs\">Functions</a>  \n",
    "    * <a href=\"#geojson\">Coordinates to GeoJSON</a>  \n",
    "    * <a href=\"#gee\">GEE Retriever and merging</a>  \n",
    "        * <a href=\"#sigmavv\">Sigma Retriever</a>  \n",
    "        * <a href=\"#gpm\">IMERG Retriever</a>  \n",
    "        * <a href=\"#merger\">Merge RS products</a>  \n",
    "    * <a href=\"#plt\">Plotting</a>  \n",
    "        * <a href=\"#1:1 plot\">1:1 Plot</a>  \n",
    "        * <a href=\"#Interactive map\">Interactive map</a>  \n",
    "* <a href=\"#import\">Read data</a>  \n",
    "* <a href=\"#preprocess\">Prepare data</a>  \n",
    "* <a href=\"#ml\">Machine Learning Models</a>  \n",
    "* <a href=\"#res1\">Regression Model results</a>\n",
    "* <a href=\"#res2\">Classification Model results</a> \n",
    "* <a href=\"#res3\">Results of Machine learning models</a>  \n",
    "* <a href=\"#sigma2rain_simple\">Sigma2Rain at specific dates and location</a>  \n",
    "* <a href=\"#sigma2rain_all\">Sigma2Rain for specific dates at the whole Ghana</a>  \n",
    "* <a href=\"#vis\">Interactive visualization</a>  \n"
   ]
  },
  {
   "cell_type": "markdown",
   "id": "833fe2cd",
   "metadata": {},
   "source": [
    "<a name=\"libs\"></a>  \n",
    "<a href=\"#Contents\">Back to Contents</a>\n",
    "\n",
    "# Import Libraries"
   ]
  },
  {
   "cell_type": "code",
   "execution_count": 1,
   "id": "c4163b61",
   "metadata": {},
   "outputs": [],
   "source": [
    "import pandas as pd\n",
    "import numpy as np\n",
    "import matplotlib.pyplot as plt\n",
    "import matplotlib\n",
    "from matplotlib import cm\n",
    "import sklearn\n",
    "import scipy\n",
    "import ee\n",
    "import time\n",
    "import warnings\n",
    "from tqdm import tqdm\n",
    "from ipywidgets import interact, widgets\n",
    "import pickle\n",
    "\n",
    "import geopandas\n",
    "from shapely.geometry import Polygon\n",
    "from cartopy.io import shapereader\n",
    "import cartopy.io.img_tiles as cimgt\n",
    "import cartopy.crs as ccrs\n",
    "from cartopy.mpl.ticker import LongitudeFormatter, LatitudeFormatter\n",
    "\n",
    "from sklearn import metrics as mt\n",
    "from sklearn.linear_model import LinearRegression, LogisticRegression\n",
    "from sklearn.model_selection import train_test_split\n",
    "from sklearn.ensemble import RandomForestClassifier, StackingClassifier, RandomForestRegressor, StackingRegressor, VotingRegressor\n",
    "from sklearn.preprocessing import StandardScaler, MinMaxScaler\n",
    "from sklearn.neural_network import MLPClassifier, MLPRegressor\n",
    "from sklearn.neighbors import KNeighborsRegressor, KNeighborsClassifier\n",
    "from sklearn.tree import DecisionTreeClassifier, DecisionTreeRegressor\n",
    "from sklearn.svm import SVC, SVR\n",
    "\n",
    "warnings.filterwarnings(\"ignore\")\n",
    "\n",
    "ee.Initialize()"
   ]
  },
  {
   "cell_type": "markdown",
   "id": "1bc66a84",
   "metadata": {},
   "source": [
    "<a name=\"funs\"></a>  \n",
    "<a href=\"#Contents\">Back to Contents</a>\n",
    "\n",
    "# Functions"
   ]
  },
  {
   "cell_type": "markdown",
   "id": "5e01f159",
   "metadata": {},
   "source": [
    "<a name=\"geojson\"></a>  \n",
    "<a href=\"#Contents\">Back to Contents</a>\n",
    "\n",
    "## Coordinates to GeoJSON"
   ]
  },
  {
   "cell_type": "code",
   "execution_count": 2,
   "id": "328d5a35",
   "metadata": {},
   "outputs": [],
   "source": [
    "def p2r(point, area_size = 100, field_size = 20):\n",
    "    dist_lat = abs(area_size / 110.540)/1000\n",
    "    dist_lon = abs(area_size / (111.320 * np.cos(point[0])))/1000\n",
    "    area = {\"type\": \"FeatureCollection\", \"features\": [{\"type\": \"Feature\", \"properties\": {},\"geometry\": {\"type\": \"Polygon\", \"coordinates\": [[[point[0] - dist_lon/2, point[1] - dist_lat/2], [point[0] + dist_lon/2, point[1] - dist_lat/2], [point[0] + dist_lon/2, point[1] + dist_lat/2], [point[0] - dist_lon/2, point[1] + dist_lat/2], [point[0] - dist_lon/2, point[1] - dist_lat/2]]]}}]}\n",
    "    coords_area = area['features'][0]['geometry']['coordinates']\n",
    "    aoi_area = ee.Geometry.Polygon(coords_area)\n",
    "    dist_lat = abs(field_size / 110.540)/1000\n",
    "    dist_lon = abs(field_size / (111.320 * np.cos(point[0])))/1000 \n",
    "    soccer={\"type\": \"FeatureCollection\", \"features\": [{\"type\": \"Feature\", \"properties\": {}, \"geometry\": {\"type\": \"Polygon\", \"coordinates\": [[[point[0] - dist_lon/2, point[1] - dist_lat/2], [point[0] + dist_lon/2, point[1] - dist_lat/2], [point[0] + dist_lon/2, point[1] + dist_lat/2], [point[0] - dist_lon/2,point[1] + dist_lat/2], [point[0] - dist_lon/2, point[1] - dist_lat/2]]]}}]}\n",
    "    coords_soccer = soccer['features'][0]['geometry']['coordinates']\n",
    "    aoi_soccer = ee.Geometry.Polygon(coords_soccer)\n",
    "    return(aoi_area, aoi_soccer)"
   ]
  },
  {
   "cell_type": "markdown",
   "id": "02d77b8b",
   "metadata": {},
   "source": [
    "<a name=\"gee\"></a>  \n",
    "<a href=\"#Contents\">Back to Contents</a>\n",
    "\n",
    "## GEE Retriever and merging"
   ]
  },
  {
   "cell_type": "markdown",
   "id": "0428de54",
   "metadata": {},
   "source": [
    "<a name=\"sigmavv\"></a>  \n",
    "<a href=\"#Contents\">Back to Contents</a>\n",
    "### Sentinel-1 Retriever"
   ]
  },
  {
   "cell_type": "code",
   "execution_count": 3,
   "id": "b3a6b614",
   "metadata": {},
   "outputs": [],
   "source": [
    "def SigmaVV(date_start, date_stop, area, patch, dist, instrumentMode = 'IW', band2 = 'VV'):\n",
    "    patch = patch.buffer(dist)\n",
    "    im_coll = (ee.ImageCollection('COPERNICUS/S1_GRD_FLOAT') # Select the image collection from the Google Earth Engine\n",
    "                .filterBounds(area) # Limit the area\n",
    "                .filterDate(ee.Date(date_start),ee.Date(date_stop)) # Select specific dates\n",
    "                .filter(ee.Filter.eq('instrumentMode', instrumentMode)) # Select instrument (IW)\n",
    "                .sort('system:time_start') # Sort the results by dates\n",
    "                .select([band2, 'angle'])) # Select only the wanted band\n",
    "    \n",
    "    acq_times = im_coll.aggregate_array('system:time_start').getInfo() # Retrieve the list of dates\n",
    "    avalaible_dates = [time.strftime('%x', time.gmtime(acq_time/1000)) for acq_time in acq_times] # Change them to wanted format\n",
    "    im_list = im_coll.toList(im_coll.size()) # Put the image collection to list\n",
    "    \n",
    "    SigmaVV_list = ee.List([])\n",
    "    SigmaVV_list_VAR = ee.List([])\n",
    "    \n",
    "    def reduce_dataset_region(image, list):\n",
    "        local_image = image.reduceRegion(ee.Reducer.median(), patch) # Get the median value of the field\n",
    "        return ee.List(list).add(local_image) # Add value to list\n",
    "    \n",
    "    def reduce_dataset_region_VAR(image, list):\n",
    "        local_image = image.select(band2).reduceRegion(ee.Reducer.variance(), patch) # Get the median value of the field\n",
    "        return ee.List(list).add(local_image) # Add value to list\n",
    "    \n",
    "    reduced_dataset = im_coll.iterate(reduce_dataset_region, SigmaVV_list)\n",
    "    reduced_dataset_VAR = im_coll.iterate(reduce_dataset_region_VAR, SigmaVV_list_VAR)\n",
    "\n",
    "    reduced_dataset_dict = reduced_dataset.getInfo()\n",
    "    reduced_dataset_dict_VAR = reduced_dataset_VAR.getInfo()\n",
    "    \n",
    "    df1 = pd.DataFrame(data = reduced_dataset_dict, index = avalaible_dates, columns = [band2, 'angle'])\n",
    "    df2 = pd.DataFrame(reduced_dataset_dict_VAR)\n",
    "    df1['Var_VV'] = df2.values\n",
    "    df1 = df1.dropna()\n",
    "    df1.index = pd.to_datetime(df1.index)\n",
    "    df1 = df1.groupby(df1.index, as_index=True).mean()\n",
    "    df1['VV_db'] = 10 * np.log10(df1['VV'])\n",
    "    df1['VV_var_db'] = 10 * np.log10(df1['Var_VV'])\n",
    "    df1 = df1[['angle', 'VV_db', 'VV_var_db']]\n",
    "    return df1"
   ]
  },
  {
   "cell_type": "markdown",
   "id": "f1ff386e",
   "metadata": {},
   "source": [
    "<a name=\"gpm\"></a>  \n",
    "<a href=\"#Contents\">Back to Contents</a>\n",
    "\n",
    "### GPM/IMERG Retriever"
   ]
  },
  {
   "cell_type": "code",
   "execution_count": 4,
   "id": "b22cc39c",
   "metadata": {},
   "outputs": [],
   "source": [
    "def rain(date_start, date_stop, area, patch):\n",
    "    band2 = 'precipitationCal'\n",
    "    im_coll = dataset = ee.ImageCollection(\"NASA/GPM_L3/IMERG_V06\")\\\n",
    "                        .filterBounds(area)\\\n",
    "                        .filterDate(ee.Date(date_start),ee.Date(date_stop))\\\n",
    "                        .select(band2)\n",
    "\n",
    "    acq_times = im_coll.aggregate_array('system:time_start').getInfo()\n",
    "    avalaible_dates = [time.strftime('%x', time.gmtime(acq_time/1000)) for acq_time in acq_times]\n",
    "    im_list = im_coll.toList(im_coll.size())\n",
    "    \n",
    "    variable_list = ee.List([])\n",
    "   \n",
    "    def reduce_dataset_region(image, list):\n",
    "        local_image = image.reduceRegion(\n",
    "            reducer=ee.Reducer.median(),\n",
    "            geometry=patch,\n",
    "            scale=1,\n",
    "            crs = \"epsg:4326\")\n",
    "\n",
    "        return ee.List(list).add(local_image)\n",
    "    \n",
    "    reduced_dataset = im_coll.iterate(reduce_dataset_region, variable_list)\n",
    "    reduced_dataset_dict = reduced_dataset.getInfo()\n",
    "    df1 = pd.DataFrame(data = reduced_dataset_dict, index = avalaible_dates, columns = [band2]).dropna()\n",
    "    df1.index = pd.to_datetime(df1.index)\n",
    "    GPM_r = df1.resample('D').mean() * 24\n",
    "    GPM_r.columns = ['GPM']\n",
    "    return GPM_r"
   ]
  },
  {
   "cell_type": "markdown",
   "id": "9b883be6",
   "metadata": {},
   "source": [
    "<a name=\"merger\"></a>  \n",
    "<a href=\"#Contents\">Back to Contents</a>\n",
    "\n",
    "### Merge SIGMA & IMERG data"
   ]
  },
  {
   "cell_type": "code",
   "execution_count": 5,
   "id": "0a07c295",
   "metadata": {},
   "outputs": [],
   "source": [
    "def merge_rain_sigma(sigma, rainIMERG):\n",
    "    rescale = sigma.index[1] - sigma.index[0]\n",
    "    index0 = sigma.index[0]\n",
    "    index1 = sigma.index[1]\n",
    "    dt = float(str(rescale).split()[0])\n",
    "    if sigma.index[1] - sigma.index[0] == pd.to_timedelta('1 days 00:00:00'):\n",
    "        sigma['VV_db2'] = sigma['VV_db'].shift(-2)\n",
    "        sigma['VV_var_db2'] = sigma['VV_var_db'].shift(-2)\n",
    "    else:\n",
    "        sigma['VV_db2'] = sigma['VV_db'].shift(-1)\n",
    "        sigma['VV_var_db2'] = sigma['VV_var_db'].shift(-1)\n",
    "    sigma = sigma.dropna()\n",
    "    \n",
    "    merged_df = sigma.copy()\n",
    "    if dt == 6:\n",
    "        merged_df['GPM'] = rainIMERG.loc[index0:].resample('6D').sum()\n",
    "    else:\n",
    "        precA = rainIMERG.loc[index0:].resample('6D').sum()\n",
    "        precB = rainIMERG.loc[index1:].resample('6D').sum()\n",
    "        p6d = precA.append(precB)\n",
    "        p6d = p6d.sort_index(ascending=True)\n",
    "        merged_df['GPM'] = p6d\n",
    "    merged_df = merged_df[['angle', 'VV_db', 'VV_db2', 'VV_var_db', 'VV_var_db2', 'GPM']]\n",
    "    return merged_df"
   ]
  },
  {
   "cell_type": "markdown",
   "id": "2c63258f",
   "metadata": {},
   "source": [
    "<a name=\"plt\"></a>  \n",
    "<a href=\"#Contents\">Back to Contents</a>  \n",
    "\n",
    "## Plotting"
   ]
  },
  {
   "cell_type": "markdown",
   "id": "7bd6a447",
   "metadata": {},
   "source": [
    "<a name=\"1:1 plot\"></a>  \n",
    "<a href=\"#Contents\">Back to Contents</a>\n",
    "\n",
    "### 1:1 Plotting"
   ]
  },
  {
   "cell_type": "code",
   "execution_count": 6,
   "id": "344cd423",
   "metadata": {},
   "outputs": [],
   "source": [
    "def plot_regression_stats(O, P):\n",
    "    # Calculate stats of O, P\n",
    "    mae = sklearn.metrics.mean_absolute_error(O, P)\n",
    "    mse = sklearn.metrics.mean_squared_error(O, P)\n",
    "    rmse = np.sqrt(mse)\n",
    "    mape_in = pd.DataFrame(np.abs((O - P) / (O))).replace([np.inf, -np.inf], np.nan)\n",
    "    mape = np.nanmean(mape_in.values) * 100\n",
    "    RSq = sklearn.metrics.r2_score(O, P)\n",
    "    r2 = scipy.stats.pearsonr(O, P)[0]**2\n",
    "    nse = (1-(np.sum((P-O)**2)/np.sum((O-np.mean(O))**2)))\n",
    "    \n",
    "    # Plot scatter\n",
    "    plt.figure(figsize = (6, 6))\n",
    "    plt.scatter(O, P, edgecolor='#808080', facecolors='#C0C0C0', linewidth=1, zorder = 2)\n",
    "    corr, _ = scipy.stats.pearsonr(O, P) # Pearson correlation between observed and predicted\n",
    "    regmodel = LinearRegression() # Apply linear regression best fit between observed and predicted\n",
    "    regmodel.fit(O.reshape(-1,1), P)\n",
    "    rsq = regmodel.score(O.reshape(-1,1), P)\n",
    "    obs, pred = O.reshape(-1,1), regmodel.predict(O.reshape(-1,1))\n",
    "    plt.plot([obs.min(), obs.max()], [pred.min(), pred.max()], color = 'black', lw = 3, zorder = 3)\n",
    "    plt.plot([0, np.max([O, P]) + 1], [0, np.max([O, P]) + 1], 'r--', zorder = 4)\n",
    "    plt.xlabel('VV [db]')\n",
    "    plt.ylabel('SM modelled [mm]')\n",
    "    \n",
    "    # Add stats on the plot\n",
    "    stats = np.round([mae, mse, rmse, mape, RSq, r2], 3)\n",
    "    stats = pd.DataFrame(data = stats, index = ['MAE', 'MSE', 'RMSE', 'MAPE', 'RSq', u'R\\u00b2'], columns = ['Metrics'])\n",
    "    stats.loc['RSq'] = np.round((stats.loc['RSq']* 100) , 2)\n",
    "    stats.loc[u'R\\u00b2'] = np.round((stats.loc[u'R\\u00b2']* 100) , 2) \n",
    "    stats2 = pd.DataFrame(stats['Metrics'][:3].astype(str) + ' mm' )\n",
    "    stats3 = pd.DataFrame(stats['Metrics'][3:].astype(str) + ' %' )\n",
    "    stats = stats2.append(stats3)\n",
    "    table = plt.table(cellText=stats.values, colWidths = [0.5] * len(stats.columns),\n",
    "          rowLabels = stats.index, cellLoc = 'left', rowLoc = 'left', loc = 4, edges='open') # Adjust table size loc and allignment\n",
    "    table.auto_set_font_size(False)\n",
    "    table.set_fontsize(9)\n",
    "    table.scale(.5, 1.5)\n",
    "    plt.legend([u'Pearson R\\u00b2: {:.3f} &\\nPearson R: {:.3f}'.format(corr**2, corr), '1:1 Plot', 'Observed - Predicted'], loc = 2)"
   ]
  },
  {
   "cell_type": "markdown",
   "id": "02d17763",
   "metadata": {},
   "source": [
    "<a name=\"Interactive map\"></a>  \n",
    "<a href=\"#Contents\">Back to Contents</a>\n",
    "\n",
    "### Plot interactive map"
   ]
  },
  {
   "cell_type": "code",
   "execution_count": 7,
   "id": "8a54f1a3",
   "metadata": {},
   "outputs": [],
   "source": [
    "def plot_date(Date, rain_no_rain = True):\n",
    "    for_plot = ghana_monthly[(ghana_monthly.index == Date)]\n",
    "\n",
    "    resolution = '10m'\n",
    "    category = 'cultural'\n",
    "    name = 'admin_0_countries'\n",
    "\n",
    "    shpfilename = shapereader.natural_earth(resolution, category, name)\n",
    "    df = geopandas.read_file(shpfilename)\n",
    "    poly = [df.loc[df['ADMIN'] == 'Ghana']['geometry'].values[0]]\n",
    "\n",
    "    stamen_terrain = cimgt.Stamen('terrain-background')\n",
    "    ll_proj = ccrs.PlateCarree()\n",
    "\n",
    "    cmap = 'coolwarm_r'\n",
    "    cmap_ = cm.get_cmap(cmap, 2)\n",
    "    rgbs = []\n",
    "    for i in range(cmap_.N):\n",
    "        rgb = cmap_(i)[:3]\n",
    "        rgbs.append(matplotlib.colors.rgb2hex(rgb))\n",
    "\n",
    "    fig = plt.figure(figsize=(12, 8))\n",
    "    ax = fig.add_subplot(1, 1, 1, projection=ll_proj)\n",
    "    ax.add_geometries(poly, crs=ll_proj, facecolor='none', edgecolor='black')\n",
    "    if rain_no_rain:\n",
    "        im = ax.scatter(for_plot['Lon'], for_plot['Lat'], marker = 'p', cmap = cmap, c = for_plot['Rain/No Rain'], s = 60, zorder = 100, vmin = 0, vmax = 1)\n",
    "        plt.scatter(0, 0, c = '{}'.format(rgbs[-1]), label = 'rain')\n",
    "        plt.scatter(0, 0, c  = '{}'.format(rgbs[0]), label = 'no rain')\n",
    "    else:\n",
    "        im = ax.scatter(for_plot['Lon'], for_plot['Lat'], marker = 'p', cmap = cmap, c = for_plot['Estimated rainfall'], s = 60, zorder = 100)\n",
    "\n",
    "    pad1 = 1\n",
    "    exts = [poly[0].bounds[0] - pad1, poly[0].bounds[2] + pad1, poly[0].bounds[1] - pad1, poly[0].bounds[3] + pad1];\n",
    "    ax.set_extent(exts, crs=ll_proj)\n",
    "    gl = ax.gridlines(draw_labels=True, color = 'black', ls = '--', alpha = 0.3)\n",
    "    gl.top_labels = False\n",
    "    gl.right_labels = False\n",
    "    gl.xformatter = LongitudeFormatter()\n",
    "    gl.yformatter = LatitudeFormatter()\n",
    "    plt.title('{} - {}'.format(((str(for_plot.index.min())).split()[0]), (str(for_plot.index.min() + pd.to_timedelta('6 days 00:00:00')).split()[0])))\n",
    "    if rain_no_rain:\n",
    "#         plt.colorbar(im, ax=ax)\n",
    "        plt.legend()\n",
    "    else:\n",
    "        plt.colorbar(im, ax=ax)\n",
    "    plt.ylim(4, 12);"
   ]
  },
  {
   "cell_type": "markdown",
   "id": "2da79203",
   "metadata": {},
   "source": [
    "<a name=\"read\"></a>  \n",
    "<a href=\"#Contents\">Back to Contents</a>\n",
    "\n",
    "# Read data"
   ]
  },
  {
   "cell_type": "code",
   "execution_count": 8,
   "id": "209cfa70",
   "metadata": {},
   "outputs": [],
   "source": [
    "TAHMO_stations = pd.read_excel('TAHMO_Soccer Fields.xlsx', index_col = 0)\n",
    "all_data = pd.read_csv('training_data.csv', index_col = 0, parse_dates = True)"
   ]
  },
  {
   "cell_type": "markdown",
   "id": "013e19d8",
   "metadata": {},
   "source": [
    "<a name=\"preprocess\"></a>  \n",
    "<a href=\"#Contents\">Back to Contents</a>\n",
    "\n",
    "# Prepare data"
   ]
  },
  {
   "cell_type": "code",
   "execution_count": 9,
   "id": "3a9a9d07",
   "metadata": {},
   "outputs": [],
   "source": [
    "threshold = 5\n",
    "\n",
    "X = all_data[['angle', 'VV_db', 'VV_db2', 'VV_var_db', 'VV_var_db2', 'GPM']].values\n",
    "y = all_data[['P6d']].values.ravel()\n",
    "X_train, X_test, y_train, y_test = train_test_split(X, y, test_size=0.30, shuffle = True, random_state=123)\n",
    "# 123-96\n",
    "GPM_class = np.where(X_test[:, -1] >= 5, 1, 0)\n",
    "y_train_class = np.where(y_train >= 5, 1, 0)\n",
    "y_test_class = np.where(y_test >= 5, 1, 0)"
   ]
  },
  {
   "cell_type": "markdown",
   "id": "0598da73",
   "metadata": {},
   "source": [
    "<a name=\"ml\"></a>  \n",
    "<a href=\"#Contents\">Back to Contents</a>\n",
    "\n",
    "# Machine Learning Models"
   ]
  },
  {
   "cell_type": "code",
   "execution_count": 10,
   "id": "561c9d93",
   "metadata": {},
   "outputs": [],
   "source": [
    "level0 = list()\n",
    "level0.append(('knn', KNeighborsClassifier()))\n",
    "level0.append(('cart', DecisionTreeClassifier()))\n",
    "level0.append(('svm', SVC()))\n",
    "level0.append(('rf', RandomForestClassifier(n_estimators=100)))\n",
    "level0.append(('NN', (MLPClassifier(hidden_layer_sizes=(10,), activation = 'logistic', max_iter=1000, alpha=0.0001,\n",
    "                 solver='adam', verbose=False,  tol=0.000000001, warm_start = True))))\n",
    "level1 = LogisticRegression()\n",
    "classifier = StackingClassifier(estimators=level0, final_estimator=level1, passthrough = True, cv=10)\n",
    "classifier.fit(X_train, y_train_class)\n",
    "\n",
    "level0 = list()\n",
    "level0.append(('knn', KNeighborsRegressor()))\n",
    "level0.append(('cart', DecisionTreeRegressor()))\n",
    "level0.append(('svm', SVR()))\n",
    "level0.append(('rf', RandomForestRegressor(n_estimators=100)))\n",
    "level1 = MLPRegressor(hidden_layer_sizes=(10,), activation = 'logistic', max_iter=1000, alpha=0.0001,\n",
    "                 solver='adam', verbose=False,  tol=0.000000001, warm_start = True)\n",
    "regressor = StackingRegressor(estimators=level0, final_estimator=level1, passthrough = True, cv=10)\n",
    "regressor.fit(X_train, y_train)\n",
    "\n",
    "classifier_file = 'classifier.sav'\n",
    "# pickle.dump(classifier, open(classifier_file, 'wb'))\n",
    "\n",
    "regressor_file = 'regressor.sav'\n",
    "# pickle.dump(regressor, open(regressor_file, 'wb'))\n",
    "\n",
    "classifier_ = pickle.load(open(classifier_file, 'rb'))\n",
    "regressor_ = pickle.load(open(regressor_file, 'rb'))"
   ]
  },
  {
   "cell_type": "markdown",
   "id": "e8caccaa",
   "metadata": {},
   "source": [
    "<a name=\"res1\"></a>  \n",
    "<a href=\"#Contents\">Back to Contents</a>\n",
    "\n",
    "# Classification Model results"
   ]
  },
  {
   "cell_type": "code",
   "execution_count": 11,
   "id": "ef9cdf7d",
   "metadata": {},
   "outputs": [
    {
     "name": "stdout",
     "output_type": "stream",
     "text": [
      "Classification Score of Sigma2Rain: 0.957, Classification score of GPM 0.834\n"
     ]
    }
   ],
   "source": [
    "y_pred = classifier.predict(X_test)\n",
    "y_prob = classifier.predict_proba(X_test)\n",
    "\n",
    "print('Classification Score of Sigma2Rain: {}, Classification score of GPM {}'.format(np.round(mt.f1_score(y_pred, y_test_class), 3), np.round(mt.f1_score(y_pred, GPM_class), 3)))"
   ]
  },
  {
   "cell_type": "markdown",
   "id": "b9733195",
   "metadata": {},
   "source": [
    "<a name=\"res2\"></a>  \n",
    "<a href=\"#Contents\">Back to Contents</a>\n",
    "\n",
    "# Regression Model results"
   ]
  },
  {
   "cell_type": "code",
   "execution_count": 12,
   "id": "c3a8b086",
   "metadata": {},
   "outputs": [
    {
     "name": "stdout",
     "output_type": "stream",
     "text": [
      "Pearson correlation of Sigma2Rain: 0.696, Pearson correlation of GPM 0.333\n"
     ]
    }
   ],
   "source": [
    "y_pred_reg = regressor.predict(X_test)\n",
    "\n",
    "# corr, _ = scipy.stats.pearsonr(y_pred_reg, y_test)\n",
    "# corr_gpm, _ = scipy.stats.pearsonr(X_test[:, -1], y_test)\n",
    "\n",
    "print('Pearson correlation of Sigma2Rain: {}, Pearson correlation of GPM {}'.format(np.round(scipy.stats.pearsonr(y_pred_reg, y_test)[0]**2, 3), np.round(scipy.stats.pearsonr(X_test[:, -1], y_test)[0]**2, 3)))"
   ]
  },
  {
   "cell_type": "markdown",
   "id": "2e4285b8",
   "metadata": {},
   "source": [
    "<a name=\"res3\"></a>  \n",
    "<a href=\"#Contents\">Back to Contents</a>\n",
    "\n",
    "# Results of Machine learning models"
   ]
  },
  {
   "cell_type": "code",
   "execution_count": 13,
   "id": "07df1d2c",
   "metadata": {},
   "outputs": [
    {
     "data": {
      "image/png": "[encoded data removed]",
      "text/plain": [
       "<Figure size 432x432 with 1 Axes>"
      ]
     },
     "metadata": {
      "needs_background": "light"
     },
     "output_type": "display_data"
    },
    {
     "data": {
      "image/png": "[encoded data removed]",
      "text/plain": [
       "<Figure size 432x432 with 1 Axes>"
      ]
     },
     "metadata": {
      "needs_background": "light"
     },
     "output_type": "display_data"
    }
   ],
   "source": [
    "results = pd.DataFrame(y_pred, columns = ['Rain/No Rain'])\n",
    "results['Probability of Rain'] = np.round(y_prob[:, 1], 2)\n",
    "results['Estimated rainfall'] = y_pred_reg\n",
    "results['Estimated rainfall'][results['Probability of Rain'] < 0.5] = 0\n",
    "results['GPM'] = X_test[:, -1]\n",
    "results['Observed rainfall'] = y_test\n",
    "results = results[['GPM', 'Observed rainfall', 'Rain/No Rain', 'Probability of Rain', 'Estimated rainfall']].round(2)\n",
    "\n",
    "plot_regression_stats(results['Observed rainfall'].values, results['Estimated rainfall'].values)\n",
    "plot_regression_stats(results['Observed rainfall'].values, results['GPM'].values)"
   ]
  },
  {
   "cell_type": "markdown",
   "id": "605cef11",
   "metadata": {},
   "source": [
    "<a name=\"sigma2rain_simple\"></a>  \n",
    "<a href=\"#Contents\">Back to Contents</a>\n",
    "\n",
    "# Sigma2Rain at specific dates and location"
   ]
  },
  {
   "cell_type": "code",
   "execution_count": 14,
   "id": "12883fd3",
   "metadata": {},
   "outputs": [
    {
     "data": {
      "text/html": [
       "<div>\n",
       "<style scoped>\n",
       "    .dataframe tbody tr th:only-of-type {\n",
       "        vertical-align: middle;\n",
       "    }\n",
       "\n",
       "    .dataframe tbody tr th {\n",
       "        vertical-align: top;\n",
       "    }\n",
       "\n",
       "    .dataframe thead th {\n",
       "        text-align: right;\n",
       "    }\n",
       "</style>\n",
       "<table border=\"1\" class=\"dataframe\">\n",
       "  <thead>\n",
       "    <tr style=\"text-align: right;\">\n",
       "      <th></th>\n",
       "      <th>Rain/No Rain</th>\n",
       "      <th>Probability of Rain</th>\n",
       "      <th>Estimated rainfall</th>\n",
       "      <th>GPM</th>\n",
       "    </tr>\n",
       "  </thead>\n",
       "  <tbody>\n",
       "    <tr>\n",
       "      <th>2021-08-02</th>\n",
       "      <td>1</td>\n",
       "      <td>0.81</td>\n",
       "      <td>22.94</td>\n",
       "      <td>44.0</td>\n",
       "    </tr>\n",
       "    <tr>\n",
       "      <th>2021-08-03</th>\n",
       "      <td>1</td>\n",
       "      <td>0.96</td>\n",
       "      <td>36.99</td>\n",
       "      <td>67.0</td>\n",
       "    </tr>\n",
       "    <tr>\n",
       "      <th>2021-08-08</th>\n",
       "      <td>1</td>\n",
       "      <td>0.90</td>\n",
       "      <td>38.02</td>\n",
       "      <td>64.0</td>\n",
       "    </tr>\n",
       "    <tr>\n",
       "      <th>2021-08-09</th>\n",
       "      <td>1</td>\n",
       "      <td>0.95</td>\n",
       "      <td>47.72</td>\n",
       "      <td>41.0</td>\n",
       "    </tr>\n",
       "    <tr>\n",
       "      <th>2021-08-14</th>\n",
       "      <td>1</td>\n",
       "      <td>0.91</td>\n",
       "      <td>31.99</td>\n",
       "      <td>10.0</td>\n",
       "    </tr>\n",
       "    <tr>\n",
       "      <th>2021-08-15</th>\n",
       "      <td>1</td>\n",
       "      <td>0.90</td>\n",
       "      <td>44.59</td>\n",
       "      <td>12.0</td>\n",
       "    </tr>\n",
       "    <tr>\n",
       "      <th>2021-08-20</th>\n",
       "      <td>1</td>\n",
       "      <td>0.90</td>\n",
       "      <td>48.01</td>\n",
       "      <td>83.0</td>\n",
       "    </tr>\n",
       "    <tr>\n",
       "      <th>2021-08-21</th>\n",
       "      <td>1</td>\n",
       "      <td>0.99</td>\n",
       "      <td>66.42</td>\n",
       "      <td>84.0</td>\n",
       "    </tr>\n",
       "  </tbody>\n",
       "</table>\n",
       "</div>"
      ],
      "text/plain": [
       "            Rain/No Rain  Probability of Rain  Estimated rainfall   GPM\n",
       "2021-08-02             1                 0.81               22.94  44.0\n",
       "2021-08-03             1                 0.96               36.99  67.0\n",
       "2021-08-08             1                 0.90               38.02  64.0\n",
       "2021-08-09             1                 0.95               47.72  41.0\n",
       "2021-08-14             1                 0.91               31.99  10.0\n",
       "2021-08-15             1                 0.90               44.59  12.0\n",
       "2021-08-20             1                 0.90               48.01  83.0\n",
       "2021-08-21             1                 0.99               66.42  84.0"
      ]
     },
     "execution_count": 14,
     "metadata": {},
     "output_type": "execute_result"
    }
   ],
   "source": [
    "date_start = '2021-08-01'\n",
    "date_stop = '2021-09-01'\n",
    "\n",
    "aoi_area, aoi_soccer = p2r(TAHMO_stations.loc['a23'], area_size = 1000, field_size = 20)\n",
    "\n",
    "sigma = SigmaVV(date_start, date_stop, aoi_area, aoi_soccer, 1)\n",
    "rainIMERG = rain(date_start, date_stop, aoi_area, aoi_soccer)\n",
    "rainfall_prediction = merge_rain_sigma(sigma, rainIMERG)\n",
    "\n",
    "rainfall_prediction_class = rainfall_prediction.copy()\n",
    "\n",
    "# rainfall_prediction_class['GPM'][rainfall_prediction_class['GPM'] < threshold] = 0\n",
    "# rainfall_prediction_class['GPM'][rainfall_prediction_class['GPM'] > 0] = 1\n",
    "\n",
    "y_pred = classifier.predict(rainfall_prediction_class.values)\n",
    "y_prob = classifier.predict_proba(rainfall_prediction_class.values)\n",
    "\n",
    "y_pred_reg = regressor.predict(rainfall_prediction.values)\n",
    "\n",
    "results = pd.DataFrame(y_pred, columns = ['Rain/No Rain'])\n",
    "results['Probability of Rain'] = np.round(y_prob[:, 1], 2)\n",
    "results['Estimated rainfall'] = np.round(y_pred_reg, 2)\n",
    "results['Estimated rainfall'][results['Probability of Rain'] < 0.5] = 0\n",
    "results['GPM'] = np.round(rainfall_prediction['GPM'].values)\n",
    "results[['GPM', 'Rain/No Rain', 'Probability of Rain', 'Estimated rainfall']].round(2)\n",
    "results.index = rainfall_prediction.index\n",
    "results"
   ]
  },
  {
   "cell_type": "markdown",
   "id": "a41040b0",
   "metadata": {},
   "source": [
    "<a name=\"sigma2rain_all\"></a>  \n",
    "<a href=\"#Contents\">Back to Contents</a>\n",
    "\n",
    "# Sigma2Rain for specific dates at the whole Ghana "
   ]
  },
  {
   "cell_type": "code",
   "execution_count": null,
   "id": "a5693724",
   "metadata": {},
   "outputs": [
    {
     "name": "stderr",
     "output_type": "stream",
     "text": [
      " 76%|█████████████████████████████████████████████████████████████▉                    | 37/49 [09:21<02:47, 13.92s/it]"
     ]
    }
   ],
   "source": [
    "ghana_monthly = pd.DataFrame()\n",
    "\n",
    "date_start = '2021-07-01'\n",
    "date_stop = '2021-09-01'\n",
    "\n",
    "for i in tqdm(range(len(TAHMO_stations))):\n",
    "    aoi_area, aoi_soccer = p2r(list(TAHMO_stations.iloc[i]), area_size = 1000, field_size = 20)\n",
    "\n",
    "    sigma = SigmaVV(date_start, date_stop, aoi_area, aoi_soccer, 1)\n",
    "    rainIMERG = rain(date_start, date_stop, aoi_area, aoi_soccer)\n",
    "    rainfall_prediction = merge_rain_sigma(sigma, rainIMERG)\n",
    "\n",
    "    rainfall_prediction_class = rainfall_prediction.copy()\n",
    "    y_pred = classifier.predict(rainfall_prediction_class.values)\n",
    "    y_prob = classifier.predict_proba(rainfall_prediction_class.values)\n",
    "    y_pred_reg = regressor.predict(rainfall_prediction.values)\n",
    "\n",
    "    results = pd.DataFrame(y_pred, columns = ['Rain/No Rain'])\n",
    "    results['Probability of Rain'] = np.round(y_prob[:, 1], 2)\n",
    "    results['Estimated rainfall'] = np.round(y_pred_reg, 2)\n",
    "    results['Estimated rainfall'][results['Probability of Rain'] < 0.5] = 0\n",
    "    results['GPM'] = np.round(rainfall_prediction['GPM'].values)\n",
    "    results[['GPM', 'Rain/No Rain', 'Probability of Rain', 'Estimated rainfall']].round(2)\n",
    "    results.index = rainfall_prediction.index\n",
    "    results['Lon'], results['Lat'] = list(TAHMO_stations.iloc[i])\n",
    "    ghana_monthly = ghana_monthly.append(results)\n",
    "    \n",
    "av_dates = []\n",
    "for i in range(len(np.unique(ghana_monthly.index))):\n",
    "    av_dates.append(str(pd.to_datetime(np.unique(ghana_monthly.index)[i])).split()[0])"
   ]
  },
  {
   "cell_type": "markdown",
   "id": "c66d3595",
   "metadata": {},
   "source": [
    "<a name=\"vis\"></a>  \n",
    "<a href=\"#Contents\">Back to Contents</a>\n",
    "\n",
    "# Interactive visualization"
   ]
  },
  {
   "cell_type": "code",
   "execution_count": null,
   "id": "3f82ef11",
   "metadata": {},
   "outputs": [],
   "source": [
    "interact(plot_date, Date = widgets.Dropdown(options=av_dates), rain_no_rain = True);"
   ]
  },
  {
   "cell_type": "code",
   "execution_count": null,
   "id": "dd932da0",
   "metadata": {},
   "outputs": [],
   "source": []
  }
 ],
 "metadata": {
  "kernelspec": {
   "display_name": "Python 3 (ipykernel)",
   "language": "python",
   "name": "python3"
  },
  "language_info": {
   "codemirror_mode": {
    "name": "ipython",
    "version": 3
   },
   "file_extension": ".py",
   "mimetype": "text/x-python",
   "name": "python",
   "nbconvert_exporter": "python",
   "pygments_lexer": "ipython3",
   "version": "3.9.7"
  }
 },
 "nbformat": 4,
 "nbformat_minor": 5
}
